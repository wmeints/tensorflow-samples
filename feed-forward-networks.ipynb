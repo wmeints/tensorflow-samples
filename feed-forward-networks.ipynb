{
 "cells": [
  {
   "cell_type": "markdown",
   "metadata": {},
   "source": [
    "# Building feed forward networks\n",
    "This notebook explains how to build feed forward neural networks with Tensorflow 2.\n",
    "In this notebook we'll be using the MNIST dataset to explain how to recognize hand-written digits using deep learning."
   ]
  },
  {
   "cell_type": "markdown",
   "metadata": {},
   "source": [
    "## Libraries used in this notebook\n",
    "We're using a couple of libraries in this notebook:\n",
    "\n",
    "* Numpy - A numeric processing library in Python\n",
    "* Tensorflow - A deep learning framework\n",
    "* Matplotlib - A plotting library in Python"
   ]
  },
  {
   "cell_type": "code",
   "execution_count": 1,
   "metadata": {},
   "outputs": [],
   "source": [
    "import numpy as np\n",
    "import matplotlib.pyplot as plt\n",
    "import tensorflow as tf\n",
    "from tensorflow.keras.layers import Dense\n",
    "from tensorflow.keras import Sequential\n",
    "from tensorflow.keras.utils import to_categorical\n",
    "\n",
    "np.random.seed(1337)\n",
    "tf.random.set_seed(1337)"
   ]
  },
  {
   "cell_type": "markdown",
   "metadata": {},
   "source": [
    "## Dataset used in this notebook\n",
    "In this notebook we're going to take a look at classifying which digit a person wrote on paper.\n",
    "For this we're going to use a well-known dataset, MNIST. The MNIST dataset contains:\n",
    "\n",
    "* 60.000 training samples\n",
    "* 10.000 testing samples\n",
    "\n",
    "Let's load the dataset and take a look at what we're dealing with here:"
   ]
  },
  {
   "cell_type": "code",
   "execution_count": 2,
   "metadata": {},
   "outputs": [],
   "source": [
    "(x_train, y_train),  (x_test, y_test) = tf.keras.datasets.mnist.load_data()"
   ]
  },
  {
   "cell_type": "code",
   "execution_count": 3,
   "metadata": {},
   "outputs": [
    {
     "name": "stdout",
     "output_type": "stream",
     "text": [
      "Number:  5\n"
     ]
    },
    {
     "data": {
      "image/png": "[encoded data removed]",
      "text/plain": [
       "<Figure size 432x288 with 1 Axes>"
      ]
     },
     "metadata": {
      "needs_background": "light"
     },
     "output_type": "display_data"
    }
   ],
   "source": [
    "plt.imshow(x_train[0])\n",
    "print(\"Number: \", y_train[0])"
   ]
  },
  {
   "cell_type": "code",
   "execution_count": 4,
   "metadata": {},
   "outputs": [
    {
     "name": "stdout",
     "output_type": "stream",
     "text": [
      "Number:  0\n"
     ]
    },
    {
     "data": {
      "image/png": "[encoded data removed]",
      "text/plain": [
       "<Figure size 432x288 with 1 Axes>"
      ]
     },
     "metadata": {
      "needs_background": "light"
     },
     "output_type": "display_data"
    }
   ],
   "source": [
    "plt.imshow(x_train[1])\n",
    "print(\"Number: \", y_train[1])"
   ]
  },
  {
   "cell_type": "markdown",
   "metadata": {},
   "source": [
    "## Building the neural network\n",
    "In order for the computer to learn what digit was written, we need to build a neural network that:\n",
    "\n",
    "* Takes an image as input\n",
    "* A set of categories (0-9) to predict which digit was written.\n",
    "\n",
    "The neural network will have:\n",
    "\n",
    "* An input layer that fits the pixels in the image (28*28)\n",
    "* An output layer that fits the digits that we want to predict (10 in total)\n",
    "* A hidden layer to account for the data complexity."
   ]
  },
  {
   "cell_type": "code",
   "execution_count": 5,
   "metadata": {},
   "outputs": [],
   "source": [
    "model = Sequential()\n",
    "\n",
    "model.add(Dense(28*28, input_shape=(28*28,), activation='sigmoid'))\n",
    "model.add(Dense(28*28, activation='sigmoid'))\n",
    "model.add(Dense(10, activation='softmax'))\n",
    "\n",
    "model.compile(loss='categorical_crossentropy', optimizer='sgd', metrics=['accuracy'])"
   ]
  },
  {
   "cell_type": "code",
   "execution_count": 6,
   "metadata": {},
   "outputs": [
    {
     "name": "stdout",
     "output_type": "stream",
     "text": [
      "Model: \"sequential\"\n",
      "_________________________________________________________________\n",
      "Layer (type)                 Output Shape              Param #   \n",
      "=================================================================\n",
      "dense (Dense)                (None, 784)               615440    \n",
      "_________________________________________________________________\n",
      "dense_1 (Dense)              (None, 784)               615440    \n",
      "_________________________________________________________________\n",
      "dense_2 (Dense)              (None, 10)                7850      \n",
      "=================================================================\n",
      "Total params: 1,238,730\n",
      "Trainable params: 1,238,730\n",
      "Non-trainable params: 0\n",
      "_________________________________________________________________\n"
     ]
    }
   ],
   "source": [
    "model.summary()"
   ]
  },
  {
   "cell_type": "markdown",
   "metadata": {},
   "source": [
    "## Preparing the dataset to match the neural network\n",
    "Regular feed-forward networks can't work with 2D images. We need to change the shape of the input data so it is a long sequence of pixels rather than a 2D matrix. In order to do this, we need to use the `reshape(...)` method on the input data."
   ]
  },
  {
   "cell_type": "code",
   "execution_count": 7,
   "metadata": {},
   "outputs": [],
   "source": [
    "x_train = x_train.reshape((-1, 28*28))\n",
    "x_test = x_test.reshape((-1, 28*28))"
   ]
  },
  {
   "cell_type": "markdown",
   "metadata": {},
   "source": [
    "The output data is represented as a digit (0-9). Our model doesn't understand this, it needs a format that looks like the sample below:"
   ]
  },
  {
   "cell_type": "code",
   "execution_count": 8,
   "metadata": {},
   "outputs": [
    {
     "name": "stdout",
     "output_type": "stream",
     "text": [
      "Original number:  5\n",
      "One-hot representation:  [0. 0. 0. 0. 0. 1. 0. 0. 0. 0.]\n"
     ]
    }
   ],
   "source": [
    "print(\"Original number: \", y_train[0])\n",
    "print(\"One-hot representation: \", to_categorical(y_train[0], 10))"
   ]
  },
  {
   "cell_type": "markdown",
   "metadata": {},
   "source": [
    "We're going to have to use the `to_categorical` method to make the output data fit the network."
   ]
  },
  {
   "cell_type": "code",
   "execution_count": 9,
   "metadata": {},
   "outputs": [],
   "source": [
    "y_train = to_categorical(y_train)\n",
    "y_test = to_categorical(y_test)"
   ]
  },
  {
   "cell_type": "markdown",
   "metadata": {},
   "source": [
    "## Training the neural network\n",
    "Now that we have the data in the correct representation, we can train the neural network.\n",
    "This is done by calling the `fit` method on the model."
   ]
  },
  {
   "cell_type": "code",
   "execution_count": 10,
   "metadata": {},
   "outputs": [],
   "source": [
    "batch_size = 128\n",
    "epochs = 10"
   ]
  },
  {
   "cell_type": "code",
   "execution_count": 11,
   "metadata": {},
   "outputs": [
    {
     "name": "stdout",
     "output_type": "stream",
     "text": [
      "Train on 60000 samples, validate on 10000 samples\n",
      "Epoch 1/10\n",
      "60000/60000 [==============================] - 3s 49us/sample - loss: 1.4454 - accuracy: 0.7068 - val_loss: 0.8616 - val_accuracy: 0.8421\n",
      "Epoch 2/10\n",
      "60000/60000 [==============================] - 2s 32us/sample - loss: 0.6796 - accuracy: 0.8604 - val_loss: 0.5291 - val_accuracy: 0.8866\n",
      "Epoch 3/10\n",
      "60000/60000 [==============================] - 2s 30us/sample - loss: 0.4772 - accuracy: 0.8886 - val_loss: 0.4145 - val_accuracy: 0.8985\n",
      "Epoch 4/10\n",
      "60000/60000 [==============================] - 2s 30us/sample - loss: 0.3897 - accuracy: 0.9030 - val_loss: 0.3545 - val_accuracy: 0.9090\n",
      "Epoch 5/10\n",
      "60000/60000 [==============================] - 2s 30us/sample - loss: 0.3393 - accuracy: 0.9117 - val_loss: 0.3182 - val_accuracy: 0.9147\n",
      "Epoch 6/10\n",
      "60000/60000 [==============================] - 2s 30us/sample - loss: 0.3048 - accuracy: 0.9187 - val_loss: 0.2932 - val_accuracy: 0.9199\n",
      "Epoch 7/10\n",
      "60000/60000 [==============================] - 2s 31us/sample - loss: 0.2791 - accuracy: 0.9254 - val_loss: 0.2763 - val_accuracy: 0.9235\n",
      "Epoch 8/10\n",
      "60000/60000 [==============================] - 2s 31us/sample - loss: 0.2589 - accuracy: 0.9301 - val_loss: 0.2601 - val_accuracy: 0.9287\n",
      "Epoch 9/10\n",
      "60000/60000 [==============================] - 2s 30us/sample - loss: 0.2419 - accuracy: 0.9345 - val_loss: 0.2488 - val_accuracy: 0.9313\n",
      "Epoch 10/10\n",
      "60000/60000 [==============================] - 2s 30us/sample - loss: 0.2275 - accuracy: 0.9384 - val_loss: 0.2383 - val_accuracy: 0.9323\n"
     ]
    }
   ],
   "source": [
    "output = model.fit(x_train,y_train, epochs=epochs, batch_size=batch_size, validation_data=(x_test, y_test))"
   ]
  },
  {
   "cell_type": "markdown",
   "metadata": {},
   "source": [
    "## Output metrics\n",
    "There's a few interesting metrics that we collect during training\n",
    "\n",
    "* Training/Validation loss: The output of the loss function, we want this to go down.\n",
    "* Training/Validation accuracy: The accuracy of the model, we want this to go up."
   ]
  },
  {
   "cell_type": "code",
   "execution_count": 12,
   "metadata": {},
   "outputs": [
    {
     "data": {
      "image/png": "[encoded data removed]",
      "text/plain": [
       "<Figure size 432x288 with 1 Axes>"
      ]
     },
     "metadata": {
      "needs_background": "light"
     },
     "output_type": "display_data"
    }
   ],
   "source": [
    "# Plot both loss functions\n",
    "plt.plot(output.history['loss'], label='training loss')\n",
    "plt.plot(output.history['val_loss'], label='validation loss')\n",
    "\n",
    "# Format the plot, so we know what we're on about.\n",
    "plt.title(\"Loss over time\")\n",
    "plt.ylabel(\"loss\")\n",
    "plt.xlabel(\"epochs\")\n",
    "plt.legend()\n",
    "\n",
    "plt.show()"
   ]
  },
  {
   "cell_type": "code",
   "execution_count": 13,
   "metadata": {},
   "outputs": [],
   "source": [
    "max_accuracy = np.max(output.history['val_accuracy'])\n",
    "max_accuracy_epoch = output.history['val_accuracy'].index(max_accuracy)"
   ]
  },
  {
   "cell_type": "code",
   "execution_count": 14,
   "metadata": {},
   "outputs": [
    {
     "data": {
      "image/png": "[encoded data removed]",
      "text/plain": [
       "<Figure size 432x288 with 1 Axes>"
      ]
     },
     "metadata": {
      "needs_background": "light"
     },
     "output_type": "display_data"
    }
   ],
   "source": [
    "# Set some limits for a prettier picture\n",
    "plt.xlim(0, 12)\n",
    "plt.ylim(np.min(output.history['accuracy']), 1.0)\n",
    "\n",
    "# Plot the data\n",
    "plt.plot(output.history['accuracy'], label='accuracy on training set')\n",
    "plt.plot(output.history['val_accuracy'], label='accuracy on validation set')\n",
    "\n",
    "# Properly format the chart, so you know what you're looking at.\n",
    "plt.title('Accuracy over time')\n",
    "plt.xlabel('Epochs')\n",
    "plt.ylabel(\"Accuracy\")\n",
    "plt.legend(loc=\"upper left\", bbox_to_anchor=(1,1))\n",
    "\n",
    "# Highlight the max accuracy on the validation set.\n",
    "plt.annotate(\n",
    "    max_accuracy, \n",
    "    xy=(max_accuracy_epoch, max_accuracy), \n",
    "    xytext=(max_accuracy_epoch + 0.2, max_accuracy + 0.05), \n",
    "    arrowprops={'arrowstyle': '->', })\n",
    "\n",
    "\n",
    "plt.show()"
   ]
  }
 ],
 "metadata": {
  "file_extension": ".py",
  "kernelspec": {
   "display_name": "Python 3",
   "language": "python",
   "name": "python3"
  },
  "language_info": {
   "codemirror_mode": {
    "name": "ipython",
    "version": 3
   },
   "file_extension": ".py",
   "mimetype": "text/x-python",
   "name": "python",
   "nbconvert_exporter": "python",
   "pygments_lexer": "ipython3",
   "version": "3.7.4"
  },
  "mimetype": "text/x-python",
  "name": "python",
  "npconvert_exporter": "python",
  "pygments_lexer": "ipython3",
  "version": 3
 },
 "nbformat": 4,
 "nbformat_minor": 2
}
